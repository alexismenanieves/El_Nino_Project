{
 "cells": [
  {
   "cell_type": "markdown",
   "id": "automatic-dallas",
   "metadata": {},
   "source": [
    "## Predicting El Niño - LSTM Model"
   ]
  },
  {
   "cell_type": "markdown",
   "id": "linear-trust",
   "metadata": {},
   "source": [
    "After analyzing our dataset, we proceed to create a regression model to predict the Oceanic Nino Index (ONI), and we will follow these three steps:\n",
    "\n",
    "1. Read and clean the data\n",
    "2. Train Model using Long-Short Term Memory (LSTM) Neural Network\n",
    "3. Predict and evaluate the model"
   ]
  },
  {
   "cell_type": "markdown",
   "id": "saving-valuable",
   "metadata": {},
   "source": [
    "### 1. Read and clean the data\n",
    "\n",
    "Firstly we will import the required libraries to process the dataset."
   ]
  },
  {
   "cell_type": "code",
   "execution_count": 2,
   "id": "regulation-gauge",
   "metadata": {},
   "outputs": [],
   "source": [
    "%matplotlib inline\n",
    "\n",
    "import numpy as np\n",
    "import pandas as pd\n",
    "import matplotlib.pyplot as plt\n",
    "import warnings\n",
    "from sklearn.metrics import mean_squared_error\n",
    "from keras.models import Sequential\n",
    "from keras.layers import Dense\n",
    "from keras.layers import LSTM\n",
    "from keras.models import load_model\n",
    "from math import sqrt\n",
    "\n",
    "warnings.filterwarnings('ignore')\n",
    "\n",
    "df = pd.read_csv('Data.csv')\n",
    "\n",
    "# Create a function to convert parse the date variable\n",
    "def date_parser(x):\n",
    "    if str(x).endswith('10') or str(x).endswith('11') or str(x).endswith('12'):\n",
    "        return pd.datetime.strptime(str(x),'%Y%m')\n",
    "    else:\n",
    "        return pd.datetime.strptime(str(x),'%Y0%m')\n",
    "\n",
    "df['date'] = df['date'].apply(date_parser)\n",
    "\n",
    "# And now convert date to index\n",
    "df = df.set_index('date')\n",
    "\n",
    "# We are going to use data from 1979, and standardize the value\n",
    "start = 336\n",
    "df = df.iloc[start:]\n",
    "df = (df - df.mean())/df.std()\n",
    "df.head()"
   ]
  },
  {
   "cell_type": "code",
   "execution_count": null,
   "id": "adjusted-pointer",
   "metadata": {},
   "outputs": [],
   "source": []
  }
 ],
 "metadata": {
  "kernelspec": {
   "display_name": "Python 3",
   "language": "python",
   "name": "python3"
  },
  "language_info": {
   "codemirror_mode": {
    "name": "ipython",
    "version": 3
   },
   "file_extension": ".py",
   "mimetype": "text/x-python",
   "name": "python",
   "nbconvert_exporter": "python",
   "pygments_lexer": "ipython3",
   "version": "3.6.13"
  }
 },
 "nbformat": 4,
 "nbformat_minor": 5
}
